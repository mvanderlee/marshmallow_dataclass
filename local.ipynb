{
 "cells": [
  {
   "cell_type": "code",
   "execution_count": 3,
   "metadata": {},
   "outputs": [],
   "source": [
    "import dataclasses\n",
    "import typing\n",
    "from marshmallow_dataclass2 import class_schema\n",
    "\n",
    "\n",
    "T = typing.TypeVar(\"T\")\n",
    "U = typing.TypeVar(\"U\")\n",
    "\n",
    "@dataclasses.dataclass\n",
    "class TestClass(typing.Generic[T]):\n",
    "    pairs: typing.List[T]\n",
    "\n",
    "\n",
    "\n",
    "test_schema = class_schema(TestClass[str])()"
   ]
  },
  {
   "cell_type": "code",
   "execution_count": 6,
   "metadata": {},
   "outputs": [
    {
     "data": {
      "text/plain": [
       "{'l': list[str]}"
      ]
     },
     "execution_count": 6,
     "metadata": {},
     "output_type": "execute_result"
    }
   ],
   "source": [
    "\n",
    "def my_fn(l: list[str]):\n",
    "  pass\n",
    "\n",
    "typing.get_type_hints(my_fn)"
   ]
  },
  {
   "cell_type": "code",
   "execution_count": 7,
   "metadata": {},
   "outputs": [
    {
     "data": {
      "text/plain": [
       "{'l': typing.List[str]}"
      ]
     },
     "execution_count": 7,
     "metadata": {},
     "output_type": "execute_result"
    }
   ],
   "source": [
    "\n",
    "def my_fn2(l: typing.List[str]):\n",
    "  pass\n",
    "\n",
    "typing.get_type_hints(my_fn2)"
   ]
  },
  {
   "cell_type": "code",
   "execution_count": 9,
   "metadata": {},
   "outputs": [
    {
     "name": "stdout",
     "output_type": "stream",
     "text": [
      "<class 'list'>\n",
      "<class 'list'>\n",
      "(<class 'str'>,)\n",
      "(<class 'str'>,)\n"
     ]
    }
   ],
   "source": [
    "t1 = list[str]\n",
    "t2 = typing.List[str]\n",
    "\n",
    "\n",
    "print(typing.get_origin(t1))\n",
    "print(typing.get_origin(t2))\n",
    "\n",
    "print(typing.get_args(t1))\n",
    "print(typing.get_args(t2))"
   ]
  },
  {
   "cell_type": "code",
   "execution_count": 15,
   "metadata": {},
   "outputs": [
    {
     "data": {
      "text/plain": [
       "dict[str, datetime.datetime]"
      ]
     },
     "execution_count": 15,
     "metadata": {},
     "output_type": "execute_result"
    }
   ],
   "source": [
    "import datetime as dt\n",
    "typing._strip_annotations(dict[typing.Annotated[str, int], typing.Annotated[dt.datetime, str]])"
   ]
  }
 ],
 "metadata": {
  "kernelspec": {
   "display_name": ".venv",
   "language": "python",
   "name": "python3"
  },
  "language_info": {
   "codemirror_mode": {
    "name": "ipython",
    "version": 3
   },
   "file_extension": ".py",
   "mimetype": "text/x-python",
   "name": "python",
   "nbconvert_exporter": "python",
   "pygments_lexer": "ipython3",
   "version": "3.11.3"
  }
 },
 "nbformat": 4,
 "nbformat_minor": 2
}
